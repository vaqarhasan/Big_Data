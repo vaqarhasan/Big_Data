{
 "cells": [
  {
   "cell_type": "markdown",
   "metadata": {},
   "source": [
    "## File Copy Commands:"
   ]
  },
  {
   "cell_type": "markdown",
   "metadata": {},
   "source": [
    "<p><b>Copy Files from HDFS to Local file system:</b></p>\n",
    "<p><i>hadoop fs -get abc.txt /home/training/Desktop</i></p>\n",
    "\n",
    "<p><b>Copy Files from Local file system to HDFS </b></p>\n",
    "<p><i>hadoop fs -put  /home/training/Desktop/ abc.txt abc.txt </i></p>\n",
    "\n",
    "<p><b>Parallel Copy: </b></p>\n",
    "<p><i>hadoop distcp abc.txt abc1.txt </i></p>\n",
    "\n",
    "<p><b>Merge Files: </b></p>\n",
    "<p><i>hadoop fs -getmerge /user/training/shakespeare /home/training/Desktop </i></p>"
   ]
  },
  {
   "cell_type": "code",
   "execution_count": null,
   "metadata": {},
   "outputs": [],
   "source": []
  }
 ],
 "metadata": {
  "kernelspec": {
   "display_name": "Python 3",
   "language": "python",
   "name": "python3"
  },
  "language_info": {
   "codemirror_mode": {
    "name": "ipython",
    "version": 3
   },
   "file_extension": ".py",
   "mimetype": "text/x-python",
   "name": "python",
   "nbconvert_exporter": "python",
   "pygments_lexer": "ipython3",
   "version": "3.7.1"
  }
 },
 "nbformat": 4,
 "nbformat_minor": 2
}
